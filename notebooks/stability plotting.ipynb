{
 "cells": [
  {
   "cell_type": "code",
   "execution_count": 1,
   "metadata": {},
   "outputs": [],
   "source": [
    "from cox.store import Store\n",
    "from cox.readers import CollectionReader\n",
    "import pandas as pd\n",
    "import numpy as np\n",
    "import torch\n",
    "from matplotlib import pyplot as plt\n",
    "%matplotlib inline"
   ]
  },
  {
   "cell_type": "code",
   "execution_count": 2,
   "metadata": {},
   "outputs": [],
   "source": [
    "import torch.nn.functional as F"
   ]
  },
  {
   "cell_type": "code",
   "execution_count": 3,
   "metadata": {},
   "outputs": [],
   "source": [
    "import sys\n",
    "sys.path.append(\"../\")"
   ]
  },
  {
   "cell_type": "code",
   "execution_count": 4,
   "metadata": {},
   "outputs": [],
   "source": [
    "from utils.data import BanditDataset\n",
    "from alg.iw import IW\n",
    "from alg.q import QLearning"
   ]
  },
  {
   "cell_type": "code",
   "execution_count": 5,
   "metadata": {},
   "outputs": [],
   "source": [
    "from matplotlib import rc\n",
    "\n",
    "rc('font', **{'family':'serif','serif':['Times New Roman']})\n",
    "rc('text', usetex=True)\n",
    "rc('xtick', labelsize=12) \n",
    "rc('ytick', labelsize=12) \n",
    "rc('legend', fontsize=12) \n",
    "rc('axes', titlesize=16, labelsize=18) \n",
    "\n",
    "rc('pdf', fonttype=42)\n",
    "rc('ps', fonttype=42)"
   ]
  },
  {
   "cell_type": "code",
   "execution_count": 6,
   "metadata": {},
   "outputs": [],
   "source": [
    "def get_df(alg, lr, n, d, K, gamma, epsilon, seed, action_seed):\n",
    "    file_name = 'stability_sweep_alg=' + alg + \\\n",
    "                            '_lr=' + str(lr) + '_n=' + str(n) + '_d=' + str(d) + \\\n",
    "                            '_K=' + str(K) + \\\n",
    "                            '_gamma=' + str(gamma) + '_epsilon=' + str(epsilon) + \\\n",
    "                            '_dataseed=' + str(seed) + '_actionseed=' + str(action_seed)\n",
    "    s = Store('../cox_logs', file_name, mode='r')\n",
    "    df = s['learning_curves'].df\n",
    "    s.close()\n",
    "    return df"
   ]
  },
  {
   "cell_type": "code",
   "execution_count": 7,
   "metadata": {},
   "outputs": [],
   "source": [
    "def get_data(mode, n, d, K, nbad, gamma, epsilon, seed, action_seed):\n",
    "    \n",
    "    dataset = BanditDataset(None, None, None, None, None, None)\n",
    "    \n",
    "    path = '../data/synth/n=' + str(n) + '/d=' + str(d) + '/K=' + str(K) + \\\n",
    "                '/nbad=' + str(nbad) + '/gamma=' + str(gamma) + \\\n",
    "                '/epsilon=' + str(epsilon) + '/seed=' + str(seed) + '/action_seed=' + str(action_seed)\n",
    "    dataset.load(path + '/' + mode + '.pt')\n",
    "    return dataset\n",
    "\n",
    "def get_opt_and_rand(mode, n, d, K, nbad, gamma, epsilon, seed, action_seed):\n",
    "    data = get_data(mode, n, d, K, nbad, gamma, epsilon, seed, action_seed)\n",
    "    opt = torch.mean(torch.gather(data.rewards, dim=1, index=data.labels.unsqueeze(1)))\n",
    "    rand = torch.mean(data.rewards)\n",
    "    return opt, rand\n",
    "\n",
    "def get_ave_opt_and_rand(mode, n, d, K, nbad, gamma, epsilon):\n",
    "    opt, rand = 0,0\n",
    "    seed = 0\n",
    "    for action_seed in range(5):\n",
    "        o,r = get_opt_and_rand(mode, n, d, K, nbad, gamma, epsilon, seed, action_seed)\n",
    "        opt += o\n",
    "        rand += r\n",
    "    return opt / 5, rand / 5"
   ]
  },
  {
   "cell_type": "code",
   "execution_count": 8,
   "metadata": {},
   "outputs": [],
   "source": [
    "def load_model(epoch, alg, lr, n, d, K, gamma, epsilon, seed, action_seed):\n",
    "    file_name = 'stability_sweep_alg=' + alg + \\\n",
    "                            '_lr=' + str(lr) + '_n=' + str(n) + '_d=' + str(d) + \\\n",
    "                            '_K=' + str(K) + \\\n",
    "                            '_gamma=' + str(gamma) + '_epsilon=' + str(epsilon) + \\\n",
    "                            '_dataseed=' + str(seed) + '_actionseed=' + str(action_seed)\n",
    "    path = '../models/' + file_name + '_' + str(epoch) + '.pt'\n",
    "    \n",
    "    if alg == 'iw':\n",
    "        model = IW(clip=None, context_dim=d, num_actions=K, \n",
    "                          model_type='mlp', n_hidden=512)\n",
    "    if alg == 'q':\n",
    "        model = QLearning(context_dim=d, num_actions=K, \n",
    "                          model_type='mlp', n_hidden=512)\n",
    "    model.load(path)\n",
    "    return model"
   ]
  },
  {
   "cell_type": "code",
   "execution_count": 9,
   "metadata": {},
   "outputs": [],
   "source": [
    "def get_lc(df, mode, quantity):\n",
    "    lc = df[df['mode'] == mode][quantity].to_numpy()\n",
    "    return lc"
   ]
  },
  {
   "cell_type": "code",
   "execution_count": 10,
   "metadata": {},
   "outputs": [],
   "source": [
    "def l1_div(pi1, pi2):\n",
    "    l1 = torch.sum(torch.abs(pi1 - pi2), dim=-1)\n",
    "    return torch.mean(l1)"
   ]
  },
  {
   "cell_type": "code",
   "execution_count": 11,
   "metadata": {},
   "outputs": [],
   "source": [
    "def get_final(mode, quantity, alg, lr, n, d, K, gamma, epsilon, seed, action_seed):\n",
    "    df = get_df(alg, lr, n, d, K, gamma, epsilon, seed, action_seed)\n",
    "    lc = get_lc(df, mode, quantity)\n",
    "    return lc[-1]"
   ]
  },
  {
   "cell_type": "code",
   "execution_count": 12,
   "metadata": {},
   "outputs": [],
   "source": [
    "def get_final_list(n_seeds, mode, quantity, alg, lr, n, d, K, gamma, epsilon):\n",
    "    out = []\n",
    "    for s in range(1, n_seeds+1):\n",
    "        out.append(get_final(mode, quantity, alg, lr, n, d, K, gamma, epsilon, s, 0))\n",
    "    return np.array(out)"
   ]
  },
  {
   "cell_type": "code",
   "execution_count": 13,
   "metadata": {},
   "outputs": [],
   "source": [
    "def get_opt_list(n_seeds, mode, n, d, K, nbad, gamma, epsilon):\n",
    "    out = []\n",
    "    for s in range(1, n_seeds+1):\n",
    "        o, r = get_opt_and_rand(mode, n, d, K, nbad, gamma, epsilon, s, 0)\n",
    "        out.append(o)\n",
    "    return np.array(out)"
   ]
  },
  {
   "cell_type": "code",
   "execution_count": 14,
   "metadata": {},
   "outputs": [],
   "source": [
    "# global notebook parameters\n",
    "\n",
    "n = 100\n",
    "d = 10\n",
    "K = 2\n",
    "nbad = 0\n",
    "epsilon = 0.1\n",
    "gamma = 0.0\n",
    "seed = 0"
   ]
  },
  {
   "cell_type": "code",
   "execution_count": null,
   "metadata": {},
   "outputs": [],
   "source": []
  },
  {
   "cell_type": "code",
   "execution_count": 15,
   "metadata": {},
   "outputs": [],
   "source": [
    "lr=0.01\n",
    "data = get_data('test', n, d, K, nbad, gamma, epsilon, seed, 0)\n",
    "\n",
    "n_seeds = 20\n",
    "\n",
    "policy_corr_mat = np.zeros((n_seeds,n_seeds))\n",
    "\n",
    "for i in range(n_seeds):\n",
    "    for j in range(n_seeds):\n",
    "        pi1 = load_model(1000, 'iw', lr, n, d, K, gamma, epsilon, seed, i)\n",
    "        pi2 = load_model(1000, 'iw', lr, n, d, K, gamma, epsilon, seed, j)\n",
    "        policy_corr_mat[i,j] = l1_div(pi1.model(data.contexts).exp(), \n",
    "                               pi2.model(data.contexts).exp())\n",
    "\n",
    "lr=0.01\n",
    "data = get_data('test', n, d, K, nbad, gamma, epsilon, seed, 0)\n",
    "\n",
    "value_corr_mat = np.zeros((n_seeds,n_seeds))\n",
    "\n",
    "for i in range(n_seeds):\n",
    "    for j in range(n_seeds):\n",
    "        Q1 = load_model(1000, 'q', lr, n, d, K, gamma, epsilon, seed, i)\n",
    "        Q2 = load_model(1000, 'q', lr, n, d, K, gamma, epsilon, seed, j)\n",
    "        pi1 = 1.0 * F.one_hot(torch.argmax(Q1.model(data.contexts), dim=-1) , K)\n",
    "        pi2 = 1.0 * F.one_hot(torch.argmax(Q2.model(data.contexts), dim=-1) , K)\n",
    "        value_corr_mat[i,j] = l1_div(pi1, pi2)"
   ]
  },
  {
   "cell_type": "code",
   "execution_count": 16,
   "metadata": {},
   "outputs": [
    {
     "data": {
      "image/png": "[encoded data removed]",
      "text/plain": [
       "<Figure size 720x360 with 3 Axes>"
      ]
     },
     "metadata": {
      "needs_background": "light"
     },
     "output_type": "display_data"
    }
   ],
   "source": [
    "\n",
    "fig, axes = plt.subplots(nrows=1, ncols=2, figsize=(10, 5))\n",
    "\n",
    "axes[0].imshow(policy_corr_mat, vmin=0, vmax=1.1)\n",
    "im = axes[1].imshow(value_corr_mat, vmin=0, vmax=1.1)\n",
    "\n",
    "fig.subplots_adjust(right=0.8)\n",
    "cbar_ax = fig.add_axes([0.83, 0.2, 0.05, 0.6])\n",
    "fig.colorbar(im, cax=cbar_ax, label='TV distance')\n",
    "\n",
    "axes[0].set_yticklabels([])\n",
    "axes[0].set_yticks([])\n",
    "axes[0].set_xticklabels([])\n",
    "axes[0].set_xticks([])\n",
    "axes[1].set_yticklabels([])\n",
    "axes[1].set_yticks([])\n",
    "axes[1].set_xticklabels([])\n",
    "axes[1].set_xticks([])\n",
    "\n",
    "axes[0].set_xlabel('Action seed')\n",
    "axes[1].set_xlabel('Action seed')\n",
    "axes[0].set_ylabel('Action seed')\n",
    "\n",
    "axes[0].set_title('Policy-based')\n",
    "axes[1].set_title('Value-based')\n",
    "\n",
    "plt.savefig('toy_stability.pdf', dpi=300, bbox_inches='tight')\n",
    "plt.show()"
   ]
  },
  {
   "cell_type": "code",
   "execution_count": 17,
   "metadata": {},
   "outputs": [
    {
     "data": {
      "image/png": "[encoded data removed]",
      "text/plain": [
       "<Figure size 432x288 with 1 Axes>"
      ]
     },
     "metadata": {
      "needs_background": "light"
     },
     "output_type": "display_data"
    }
   ],
   "source": [
    "fig, axes = plt.subplots(nrows=1, ncols=1, figsize=(6, 4))\n",
    "\n",
    "mode = 'test'\n",
    "quantity = 'reward'\n",
    "lr = 0.01\n",
    "\n",
    "n_seeds = 50\n",
    "\n",
    "iw = get_final_list(n_seeds, 'test', 'reward', 'iw', lr, n, d, K, gamma, epsilon)\n",
    "q = get_final_list(n_seeds, 'test', 'reward', 'q', lr, n, d, K, gamma, epsilon)\n",
    "ff = get_final_list(n_seeds, 'test', 'reward', 'ff', lr, n, d, K, gamma, epsilon)\n",
    "opt = get_opt_list(n_seeds, 'test', n, d, K, nbad, gamma, epsilon)\n",
    "\n",
    "# decompose regret (opt - ff) + (ff - alg)\n",
    "ee = np.mean(opt - ff)\n",
    "ee_std = np.std(opt - ff)\n",
    "\n",
    "iw_be = np.mean(ff - iw)\n",
    "iw_be_std = np.std(ff - iw)\n",
    "q_be = np.mean(ff - q)\n",
    "q_be_std = np.std(ff - q)\n",
    "\n",
    "\n",
    "axes.bar(0, ee, color='blue', label='Estimation error', width=0.7, alpha=0.5, yerr=ee_std)\n",
    "axes.bar(0, iw_be, bottom=ee, color='orange', label='Bandit error', width=0.7, alpha=0.5, yerr=iw_be_std)\n",
    "\n",
    "axes.bar(1, ee, color='blue', width=0.7, alpha=0.5, yerr=ee_std)\n",
    "axes.bar(1, q_be, bottom=ee, color='orange', width=0.7, alpha=0.5, yerr=q_be_std)\n",
    "\n",
    "axes.set_ylabel('Regret')\n",
    "axes.set_xticks([0,1])\n",
    "axes.set_xticklabels(['Policy-based', 'Value-based'])\n",
    "\n",
    "axes.legend()\n",
    "plt.savefig('toy_regret_bar.pdf', dpi=300)\n",
    "plt.show()"
   ]
  },
  {
   "cell_type": "code",
   "execution_count": null,
   "metadata": {},
   "outputs": [],
   "source": []
  },
  {
   "cell_type": "code",
   "execution_count": 19,
   "metadata": {},
   "outputs": [
    {
     "data": {
      "image/png": "[encoded data removed]",
      "text/plain": [
       "<Figure size 864x288 with 2 Axes>"
      ]
     },
     "metadata": {
      "needs_background": "light"
     },
     "output_type": "display_data"
    }
   ],
   "source": [
    "lr = 0.01\n",
    "seed = 0\n",
    "#a_s = 1\n",
    "\n",
    "n_seeds = 20\n",
    "\n",
    "def plot_lc(df, ax, pb, label):\n",
    "    lc = get_lc(df, 'train', 'loss')\n",
    "    if label:\n",
    "        if pb:\n",
    "            ax.plot(-lc, color='blue', label='Train obj')\n",
    "        else:\n",
    "            ax.plot(lc, color='blue', label='Train obj')\n",
    "\n",
    "        lc = get_lc(df, 'test', 'reward')\n",
    "        ax.plot(lc, color='orange', label='Test value')\n",
    "\n",
    "        opt, rand = get_opt_and_rand(\"test\", n, d, K, nbad, gamma, epsilon, seed, a_s)\n",
    "        ax.hlines(opt, 0,1000, label='Test optimal', color='black')\n",
    "\n",
    "        lc = get_lc(df, 'train', 'reward')\n",
    "        ax.plot(lc, color='green', label='Train value')\n",
    "    else:\n",
    "        if pb:\n",
    "            ax.plot(-lc, color='blue')\n",
    "        else:\n",
    "            ax.plot(lc, color='blue')\n",
    "\n",
    "        lc = get_lc(df, 'test', 'reward')\n",
    "        ax.plot(lc, color='orange')\n",
    "\n",
    "        opt, rand = get_opt_and_rand(\"test\", n, d, K, nbad, gamma, epsilon, seed, a_s)\n",
    "        ax.hlines(opt, 0,1000, color='black')\n",
    "\n",
    "        lc = get_lc(df, 'train', 'reward')\n",
    "        ax.plot(lc, color='green')\n",
    "    \n",
    "\n",
    "fig, axes = plt.subplots(nrows=1, ncols=2, figsize=(12, 4))\n",
    "\n",
    "for a_s in range(n_seeds):\n",
    "    df = get_df('iw', lr, n, d, K, gamma, epsilon, seed, a_s)\n",
    "    plot_lc(df, axes[0], True, False)\n",
    "axes[0].set_xlabel('Epoch')\n",
    "axes[0].set_ylabel('Value')\n",
    "axes[0].set_title('Policy-based')\n",
    "axes[0].set_ylim(-0.1, 1.1)\n",
    "\n",
    "for a_s in range(n_seeds):\n",
    "    df = get_df('q', lr, n, d, K, gamma, epsilon, seed, a_s)\n",
    "    if a_s ==0:\n",
    "        plot_lc(df, axes[1], False, True)\n",
    "    else:\n",
    "        plot_lc(df, axes[1], False, False)\n",
    "axes[1].set_xlabel('Epoch')\n",
    "axes[1].set_yticklabels([])\n",
    "axes[1].set_yticks([])\n",
    "axes[1].legend(loc='upper right')\n",
    "axes[1].set_title('Value-based')\n",
    "axes[1].set_ylim(-0.1, 1.1)\n",
    "    \n",
    "plt.savefig('toy_learning.pdf', dpi=300, bbox_inches='tight')\n",
    "plt.show()"
   ]
  },
  {
   "cell_type": "code",
   "execution_count": null,
   "metadata": {},
   "outputs": [],
   "source": []
  },
  {
   "cell_type": "code",
   "execution_count": null,
   "metadata": {},
   "outputs": [],
   "source": []
  },
  {
   "cell_type": "code",
   "execution_count": null,
   "metadata": {},
   "outputs": [],
   "source": []
  },
  {
   "cell_type": "code",
   "execution_count": null,
   "metadata": {},
   "outputs": [],
   "source": []
  },
  {
   "cell_type": "code",
   "execution_count": null,
   "metadata": {},
   "outputs": [],
   "source": []
  },
  {
   "cell_type": "code",
   "execution_count": null,
   "metadata": {},
   "outputs": [],
   "source": []
  },
  {
   "cell_type": "code",
   "execution_count": null,
   "metadata": {},
   "outputs": [],
   "source": []
  },
  {
   "cell_type": "code",
   "execution_count": null,
   "metadata": {},
   "outputs": [],
   "source": []
  },
  {
   "cell_type": "code",
   "execution_count": 13,
   "metadata": {},
   "outputs": [],
   "source": [
    "def iw_ave_correlation(lr, n, d, K, nbad, gamma, epsilon, seed):\n",
    "    data = get_data('test', n, d, K, nbad, gamma, epsilon, seed, 0)\n",
    "\n",
    "    policy_corr_mat = np.zeros((5,5))\n",
    "\n",
    "    for i in range(5):\n",
    "        for j in range(5):\n",
    "            pi1 = load_model(1000, 'iw', lr, n, d, K, gamma, epsilon, seed, i)\n",
    "            pi2 = load_model(1000, 'iw', lr, n, d, K, gamma, epsilon, seed, j)\n",
    "            policy_corr_mat[i,j] = l1_div(pi1.model(data.contexts).exp(), \n",
    "                                   pi2.model(data.contexts).exp())\n",
    "    \n",
    "    ave_corr = np.sum(policy_corr_mat) / 20\n",
    "    return ave_corr\n",
    "\n",
    "def q_ave_correlation(lr, n, d, K, nbad, gamma, epsilon, seed):\n",
    "    data = get_data('test', n, d, K, nbad, gamma, epsilon, seed, 0)\n",
    "\n",
    "    value_corr_mat = np.zeros((5,5))\n",
    "\n",
    "    for i in range(5):\n",
    "        for j in range(5):\n",
    "            Q1 = load_model(1000, 'q', lr, n, d, K, gamma, epsilon, seed, i)\n",
    "            Q2 = load_model(1000, 'q', lr, n, d, K, gamma, epsilon, seed, j)\n",
    "            pi1 = 1.0 * F.one_hot(torch.argmax(Q1.model(data.contexts), dim=-1) , K)\n",
    "            pi2 = 1.0 * F.one_hot(torch.argmax(Q2.model(data.contexts), dim=-1) , K)\n",
    "            value_corr_mat[i,j] = l1_div(pi1, pi2)\n",
    "    \n",
    "    ave_corr = np.sum(value_corr_mat) / 20\n",
    "    return ave_corr"
   ]
  },
  {
   "cell_type": "code",
   "execution_count": null,
   "metadata": {},
   "outputs": [],
   "source": []
  },
  {
   "cell_type": "code",
   "execution_count": 49,
   "metadata": {},
   "outputs": [
    {
     "data": {
      "image/png": "[encoded data removed]",
      "text/plain": [
       "<Figure size 432x288 with 1 Axes>"
      ]
     },
     "metadata": {
      "needs_background": "light"
     },
     "output_type": "display_data"
    }
   ],
   "source": [
    "algs = ['ff', 'q', 'iw']\n",
    "mode = 'test'\n",
    "quantity = 'reward'\n",
    "lr = 0.01\n",
    "\n",
    "seed = 5\n",
    "\n",
    "for alg in algs:\n",
    "    df = get_df(alg, lr, n, d, K, gamma, epsilon, seed, 0)\n",
    "    lc = get_lc(df, mode, quantity)\n",
    "    plt.plot(lc, label=alg)\n",
    "plt.legend()\n",
    "plt.show()"
   ]
  },
  {
   "cell_type": "code",
   "execution_count": 38,
   "metadata": {},
   "outputs": [
    {
     "data": {
      "image/png": "[encoded data removed]",
      "text/plain": [
       "<Figure size 432x288 with 1 Axes>"
      ]
     },
     "metadata": {
      "needs_background": "light"
     },
     "output_type": "display_data"
    }
   ],
   "source": [
    "alg = 'ff'\n",
    "mode = 'train'\n",
    "quantity = 'reward'\n",
    "\n",
    "lr = 0.01\n",
    "\n",
    "for a_s in range(5):\n",
    "    df = get_df(alg, lr, n, d, K, gamma, epsilon, seed, a_s)\n",
    "    lc = get_lc(df, mode, quantity)\n",
    "    plt.plot(lc)\n",
    "    \n",
    "opt, rand = get_ave_opt_and_rand(mode, n, d, K, nbad, gamma, epsilon)\n",
    "plt.hlines(opt, 0,1000, label='opt', color='black')\n",
    "plt.hlines(rand, 0,1000, label='rand', color='black')\n",
    "\n",
    "plt.xlabel('epoch')\n",
    "plt.ylabel(mode + ' ' + quantity)\n",
    "plt.title(alg)\n",
    "#plt.ylim(0.45, 0.5)\n",
    "plt.show()"
   ]
  },
  {
   "cell_type": "code",
   "execution_count": null,
   "metadata": {},
   "outputs": [],
   "source": []
  },
  {
   "cell_type": "code",
   "execution_count": null,
   "metadata": {},
   "outputs": [],
   "source": []
  }
 ],
 "metadata": {
  "kernelspec": {
   "display_name": "Python 3",
   "language": "python",
   "name": "python3"
  },
  "language_info": {
   "codemirror_mode": {
    "name": "ipython",
    "version": 3
   },
   "file_extension": ".py",
   "mimetype": "text/x-python",
   "name": "python",
   "nbconvert_exporter": "python",
   "pygments_lexer": "ipython3",
   "version": "3.6.10"
  }
 },
 "nbformat": 4,
 "nbformat_minor": 2
}
